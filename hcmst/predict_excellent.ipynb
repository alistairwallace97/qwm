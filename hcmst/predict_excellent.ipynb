{
 "cells": [
  {
   "cell_type": "code",
   "execution_count": 28,
   "metadata": {
    "collapsed": true
   },
   "outputs": [],
   "source": [
    "import numpy as np\n",
    "import pandas as pd\n",
    "\n",
    "%matplotlib inline\n",
    "import matplotlib.pyplot as plt\n",
    "import seaborn as sns\n",
    "\n",
    "pd.options.display.max_columns=1000"
   ]
  },
  {
   "cell_type": "markdown",
   "metadata": {},
   "source": [
    "# Load data"
   ]
  },
  {
   "cell_type": "code",
   "execution_count": 29,
   "metadata": {
    "scrolled": true
   },
   "outputs": [
    {
     "data": {
      "text/html": [
       "<div>\n",
       "<style scoped>\n",
       "    .dataframe tbody tr th:only-of-type {\n",
       "        vertical-align: middle;\n",
       "    }\n",
       "\n",
       "    .dataframe tbody tr th {\n",
       "        vertical-align: top;\n",
       "    }\n",
       "\n",
       "    .dataframe thead th {\n",
       "        text-align: right;\n",
       "    }\n",
       "</style>\n",
       "<table border=\"1\" class=\"dataframe\">\n",
       "  <thead>\n",
       "    <tr style=\"text-align: right;\">\n",
       "      <th></th>\n",
       "      <th>age</th>\n",
       "      <th>education</th>\n",
       "      <th>race</th>\n",
       "      <th>sex</th>\n",
       "      <th>household_size</th>\n",
       "      <th>house_type</th>\n",
       "      <th>income</th>\n",
       "      <th>marital_status</th>\n",
       "      <th>in_metro</th>\n",
       "      <th>usa_region</th>\n",
       "      <th>house_payment</th>\n",
       "      <th>N_child</th>\n",
       "      <th>work</th>\n",
       "      <th>has_internet</th>\n",
       "      <th>has_gay_friendsfam</th>\n",
       "      <th>politics</th>\n",
       "      <th>religion</th>\n",
       "      <th>in_relationship</th>\n",
       "      <th>partner_age</th>\n",
       "      <th>N_minutes_survey</th>\n",
       "      <th>is_lgb</th>\n",
       "      <th>is_married</th>\n",
       "      <th>partner_race</th>\n",
       "      <th>partner_religion</th>\n",
       "      <th>partner_education</th>\n",
       "      <th>USA_raised</th>\n",
       "      <th>N_marriages</th>\n",
       "      <th>cohabit</th>\n",
       "      <th>age_first_met</th>\n",
       "      <th>age_relationship_begin</th>\n",
       "      <th>age_married</th>\n",
       "      <th>relative_income</th>\n",
       "      <th>same_high_school</th>\n",
       "      <th>same_college</th>\n",
       "      <th>same_hometown</th>\n",
       "      <th>age_difference</th>\n",
       "      <th>relationship_quality</th>\n",
       "      <th>met_online</th>\n",
       "      <th>met_friends</th>\n",
       "      <th>met_family</th>\n",
       "      <th>met_work</th>\n",
       "      <th>relationship_excellent</th>\n",
       "      <th>is_not_working</th>\n",
       "      <th>has_gay_friends</th>\n",
       "      <th>has_gay_family</th>\n",
       "      <th>religion_is_christian</th>\n",
       "      <th>religion_is_none</th>\n",
       "      <th>partner_religion_is_christian</th>\n",
       "      <th>partner_religion_is_none</th>\n",
       "    </tr>\n",
       "  </thead>\n",
       "  <tbody>\n",
       "    <tr>\n",
       "      <th>0</th>\n",
       "      <td>52</td>\n",
       "      <td>bachelor's degree or higher</td>\n",
       "      <td>hispanic</td>\n",
       "      <td>female</td>\n",
       "      <td>2</td>\n",
       "      <td>apartment</td>\n",
       "      <td>22250.0</td>\n",
       "      <td>living with partner</td>\n",
       "      <td>True</td>\n",
       "      <td>midwest</td>\n",
       "      <td>rent</td>\n",
       "      <td>0</td>\n",
       "      <td>working - as a paid employee</td>\n",
       "      <td>True</td>\n",
       "      <td>yes, friends</td>\n",
       "      <td>democrat</td>\n",
       "      <td>catholic</td>\n",
       "      <td>True</td>\n",
       "      <td>48.0</td>\n",
       "      <td>20</td>\n",
       "      <td>True</td>\n",
       "      <td>False</td>\n",
       "      <td>white</td>\n",
       "      <td>protestant (e.g. methodist, lutheran, presbyte...</td>\n",
       "      <td>some college</td>\n",
       "      <td>True</td>\n",
       "      <td>1</td>\n",
       "      <td>False</td>\n",
       "      <td>45.0</td>\n",
       "      <td>45.0</td>\n",
       "      <td>NaN</td>\n",
       "      <td>less</td>\n",
       "      <td>False</td>\n",
       "      <td>False</td>\n",
       "      <td>False</td>\n",
       "      <td>4.0</td>\n",
       "      <td>good</td>\n",
       "      <td>True</td>\n",
       "      <td>False</td>\n",
       "      <td>False</td>\n",
       "      <td>False</td>\n",
       "      <td>False</td>\n",
       "      <td>False</td>\n",
       "      <td>True</td>\n",
       "      <td>False</td>\n",
       "      <td>True</td>\n",
       "      <td>False</td>\n",
       "      <td>False</td>\n",
       "      <td>False</td>\n",
       "    </tr>\n",
       "    <tr>\n",
       "      <th>1</th>\n",
       "      <td>28</td>\n",
       "      <td>bachelor's degree or higher</td>\n",
       "      <td>white</td>\n",
       "      <td>female</td>\n",
       "      <td>2</td>\n",
       "      <td>apartment</td>\n",
       "      <td>45000.0</td>\n",
       "      <td>living with partner</td>\n",
       "      <td>True</td>\n",
       "      <td>west</td>\n",
       "      <td>rent</td>\n",
       "      <td>0</td>\n",
       "      <td>working - as a paid employee</td>\n",
       "      <td>True</td>\n",
       "      <td>yes, both</td>\n",
       "      <td>democrat</td>\n",
       "      <td>jewish</td>\n",
       "      <td>True</td>\n",
       "      <td>30.0</td>\n",
       "      <td>13</td>\n",
       "      <td>True</td>\n",
       "      <td>True</td>\n",
       "      <td>white</td>\n",
       "      <td>none</td>\n",
       "      <td>bachelor's degree or higher</td>\n",
       "      <td>True</td>\n",
       "      <td>1</td>\n",
       "      <td>False</td>\n",
       "      <td>19.0</td>\n",
       "      <td>20.0</td>\n",
       "      <td>23.0</td>\n",
       "      <td>more</td>\n",
       "      <td>False</td>\n",
       "      <td>True</td>\n",
       "      <td>False</td>\n",
       "      <td>2.0</td>\n",
       "      <td>good</td>\n",
       "      <td>False</td>\n",
       "      <td>True</td>\n",
       "      <td>False</td>\n",
       "      <td>False</td>\n",
       "      <td>False</td>\n",
       "      <td>False</td>\n",
       "      <td>True</td>\n",
       "      <td>True</td>\n",
       "      <td>False</td>\n",
       "      <td>False</td>\n",
       "      <td>False</td>\n",
       "      <td>True</td>\n",
       "    </tr>\n",
       "    <tr>\n",
       "      <th>2</th>\n",
       "      <td>49</td>\n",
       "      <td>high school</td>\n",
       "      <td>black</td>\n",
       "      <td>female</td>\n",
       "      <td>4</td>\n",
       "      <td>apartment</td>\n",
       "      <td>37250.0</td>\n",
       "      <td>never married</td>\n",
       "      <td>True</td>\n",
       "      <td>south</td>\n",
       "      <td>rent</td>\n",
       "      <td>1</td>\n",
       "      <td>working - as a paid employee</td>\n",
       "      <td>True</td>\n",
       "      <td>yes, both</td>\n",
       "      <td>democrat</td>\n",
       "      <td>baptist-any denomination</td>\n",
       "      <td>False</td>\n",
       "      <td>NaN</td>\n",
       "      <td>0</td>\n",
       "      <td>False</td>\n",
       "      <td>False</td>\n",
       "      <td>NaN</td>\n",
       "      <td>NaN</td>\n",
       "      <td>less than high school</td>\n",
       "      <td>False</td>\n",
       "      <td>NaN</td>\n",
       "      <td>False</td>\n",
       "      <td>NaN</td>\n",
       "      <td>NaN</td>\n",
       "      <td>NaN</td>\n",
       "      <td>NaN</td>\n",
       "      <td>False</td>\n",
       "      <td>False</td>\n",
       "      <td>False</td>\n",
       "      <td>NaN</td>\n",
       "      <td>NaN</td>\n",
       "      <td>False</td>\n",
       "      <td>False</td>\n",
       "      <td>False</td>\n",
       "      <td>False</td>\n",
       "      <td>False</td>\n",
       "      <td>False</td>\n",
       "      <td>True</td>\n",
       "      <td>True</td>\n",
       "      <td>True</td>\n",
       "      <td>False</td>\n",
       "      <td>False</td>\n",
       "      <td>False</td>\n",
       "    </tr>\n",
       "    <tr>\n",
       "      <th>3</th>\n",
       "      <td>31</td>\n",
       "      <td>some college</td>\n",
       "      <td>white</td>\n",
       "      <td>male</td>\n",
       "      <td>1</td>\n",
       "      <td>apartment</td>\n",
       "      <td>45000.0</td>\n",
       "      <td>never married</td>\n",
       "      <td>True</td>\n",
       "      <td>south</td>\n",
       "      <td>owned</td>\n",
       "      <td>0</td>\n",
       "      <td>working - as a paid employee</td>\n",
       "      <td>True</td>\n",
       "      <td>yes, both</td>\n",
       "      <td>democrat</td>\n",
       "      <td>other non-christian, please specify:</td>\n",
       "      <td>True</td>\n",
       "      <td>40.0</td>\n",
       "      <td>9</td>\n",
       "      <td>True</td>\n",
       "      <td>False</td>\n",
       "      <td>white</td>\n",
       "      <td>other non-christian, please specify</td>\n",
       "      <td>high school</td>\n",
       "      <td>True</td>\n",
       "      <td>0</td>\n",
       "      <td>False</td>\n",
       "      <td>23.0</td>\n",
       "      <td>23.0</td>\n",
       "      <td>NaN</td>\n",
       "      <td>more</td>\n",
       "      <td>False</td>\n",
       "      <td>False</td>\n",
       "      <td>False</td>\n",
       "      <td>9.0</td>\n",
       "      <td>good</td>\n",
       "      <td>True</td>\n",
       "      <td>True</td>\n",
       "      <td>False</td>\n",
       "      <td>False</td>\n",
       "      <td>False</td>\n",
       "      <td>False</td>\n",
       "      <td>True</td>\n",
       "      <td>True</td>\n",
       "      <td>False</td>\n",
       "      <td>False</td>\n",
       "      <td>False</td>\n",
       "      <td>False</td>\n",
       "    </tr>\n",
       "  </tbody>\n",
       "</table>\n",
       "</div>"
      ],
      "text/plain": [
       "   age                    education      race     sex  household_size  \\\n",
       "0   52  bachelor's degree or higher  hispanic  female               2   \n",
       "1   28  bachelor's degree or higher     white  female               2   \n",
       "2   49                  high school     black  female               4   \n",
       "3   31                 some college     white    male               1   \n",
       "\n",
       "  house_type   income       marital_status  in_metro usa_region house_payment  \\\n",
       "0  apartment  22250.0  living with partner      True    midwest          rent   \n",
       "1  apartment  45000.0  living with partner      True       west          rent   \n",
       "2  apartment  37250.0        never married      True      south          rent   \n",
       "3  apartment  45000.0        never married      True      south         owned   \n",
       "\n",
       "   N_child                          work  has_internet has_gay_friendsfam  \\\n",
       "0        0  working - as a paid employee          True       yes, friends   \n",
       "1        0  working - as a paid employee          True          yes, both   \n",
       "2        1  working - as a paid employee          True          yes, both   \n",
       "3        0  working - as a paid employee          True          yes, both   \n",
       "\n",
       "   politics                              religion  in_relationship  \\\n",
       "0  democrat                              catholic             True   \n",
       "1  democrat                                jewish             True   \n",
       "2  democrat              baptist-any denomination            False   \n",
       "3  democrat  other non-christian, please specify:             True   \n",
       "\n",
       "   partner_age  N_minutes_survey  is_lgb  is_married partner_race  \\\n",
       "0         48.0                20    True       False        white   \n",
       "1         30.0                13    True        True        white   \n",
       "2          NaN                 0   False       False          NaN   \n",
       "3         40.0                 9    True       False        white   \n",
       "\n",
       "                                    partner_religion  \\\n",
       "0  protestant (e.g. methodist, lutheran, presbyte...   \n",
       "1                                               none   \n",
       "2                                                NaN   \n",
       "3                other non-christian, please specify   \n",
       "\n",
       "             partner_education  USA_raised N_marriages  cohabit  \\\n",
       "0                 some college        True           1    False   \n",
       "1  bachelor's degree or higher        True           1    False   \n",
       "2        less than high school       False         NaN    False   \n",
       "3                  high school        True           0    False   \n",
       "\n",
       "   age_first_met  age_relationship_begin  age_married relative_income  \\\n",
       "0           45.0                    45.0          NaN            less   \n",
       "1           19.0                    20.0         23.0            more   \n",
       "2            NaN                     NaN          NaN             NaN   \n",
       "3           23.0                    23.0          NaN            more   \n",
       "\n",
       "   same_high_school  same_college  same_hometown  age_difference  \\\n",
       "0             False         False          False             4.0   \n",
       "1             False          True          False             2.0   \n",
       "2             False         False          False             NaN   \n",
       "3             False         False          False             9.0   \n",
       "\n",
       "  relationship_quality  met_online  met_friends  met_family  met_work  \\\n",
       "0                 good        True        False       False     False   \n",
       "1                 good       False         True       False     False   \n",
       "2                  NaN       False        False       False     False   \n",
       "3                 good        True         True       False     False   \n",
       "\n",
       "   relationship_excellent  is_not_working  has_gay_friends  has_gay_family  \\\n",
       "0                   False           False             True           False   \n",
       "1                   False           False             True            True   \n",
       "2                   False           False             True            True   \n",
       "3                   False           False             True            True   \n",
       "\n",
       "   religion_is_christian  religion_is_none  partner_religion_is_christian  \\\n",
       "0                   True             False                          False   \n",
       "1                  False             False                          False   \n",
       "2                   True             False                          False   \n",
       "3                  False             False                          False   \n",
       "\n",
       "   partner_religion_is_none  \n",
       "0                     False  \n",
       "1                      True  \n",
       "2                     False  \n",
       "3                     False  "
      ]
     },
     "execution_count": 29,
     "metadata": {},
     "output_type": "execute_result"
    }
   ],
   "source": [
    "df = pd.read_csv('/gh/data/hcmst/1_cleaned.csv', index_col=0)\n",
    "df.head(4)"
   ]
  },
  {
   "cell_type": "markdown",
   "metadata": {},
   "source": [
    "# Make some new features"
   ]
  },
  {
   "cell_type": "code",
   "execution_count": 30,
   "metadata": {},
   "outputs": [],
   "source": [
    "df['met_to_marriage_years'] = df['age_married'] - df['age_first_met']\n",
    "df['relationship_to_marriage_years'] = df['age_married'] - df['age_relationship_begin']\n",
    "df['years_since_marriage'] = df['age'] - df['age_married']\n",
    "df['same_race'] = df['race'] == df['partner_race']\n",
    "df['same_religion'] = df['religion'] == df['partner_religion']\n",
    "df['same_education'] = df['education'] == df['partner_education']"
   ]
  },
  {
   "cell_type": "markdown",
   "metadata": {},
   "source": [
    "# Choose target"
   ]
  },
  {
   "cell_type": "code",
   "execution_count": 31,
   "metadata": {},
   "outputs": [],
   "source": [
    "df.dropna(subset=['relationship_quality'], inplace=True)\n",
    "y = df['relationship_excellent'].values\n",
    "df.drop(['relationship_excellent', 'relationship_quality'], axis=1, inplace=True)"
   ]
  },
  {
   "cell_type": "markdown",
   "metadata": {},
   "source": [
    "# Make model"
   ]
  },
  {
   "cell_type": "code",
   "execution_count": 78,
   "metadata": {},
   "outputs": [],
   "source": [
    "# Model settings\n",
    "model_config = {\n",
    "    'algorithm': 'logit',\n",
    "    'param_grid': {'penalty': ['l1', 'l2'], 'C': np.logspace(-6,3,10)},\n",
    "#     'algorithm': 'rf',\n",
    "#     'param_grid': {'n_estimators': [100, 1000], 'max_depth': [5, 7, 9], 'max_features': [.1, .3, .5]},\n",
    "    'n_folds': 5\n",
    "}"
   ]
  },
  {
   "cell_type": "code",
   "execution_count": 79,
   "metadata": {},
   "outputs": [],
   "source": [
    "from sklearn.pipeline import make_pipeline, Pipeline, FeatureUnion\n",
    "from sklearn.preprocessing import StandardScaler, OneHotEncoder, LabelEncoder\n",
    "from sklearn.base import BaseEstimator, TransformerMixin\n",
    "from sklearn.model_selection import train_test_split, GridSearchCV\n",
    "from sklearn.ensemble import RandomForestClassifier\n",
    "from sklearn.linear_model import LogisticRegression\n",
    "from sklearn.metrics import f1_score, roc_auc_score\n",
    "from sklearn.feature_extraction import DictVectorizer\n",
    "from sklearn.preprocessing import StandardScaler,Imputer\n",
    "\n",
    "from lime.lime_tabular import LimeTabularExplainer"
   ]
  },
  {
   "cell_type": "code",
   "execution_count": 80,
   "metadata": {},
   "outputs": [],
   "source": [
    "class DataFrame_Encoder(BaseEstimator, TransformerMixin):\n",
    "    \n",
    "    def __init__(self, categorical_cols_=None,numeric_cols_=None):\n",
    "        self.categorical_cols_ = categorical_cols_\n",
    "        self.numeric_cols_ = numeric_cols_\n",
    "    \n",
    "    def fit(self, df, y=None):\n",
    "        ### df should be a dataframe that is a mix of categorical and numeric columns\n",
    "        self.vec_ = DictVectorizer(sparse=False)\n",
    "        temp_data = df[self.categorical_cols_].astype(str)\n",
    "        self.vec_.fit(temp_data.to_dict('records'))\n",
    "        \n",
    "        self.feature_names_ = list(self.numeric_cols_) + list(self.vec_.feature_names_)\n",
    "        return self\n",
    "\n",
    "    def transform(self, df):\n",
    "        ### df should be a dataframe that is a mix of categorical and numeric columns\n",
    "        if len(self.categorical_cols_) > 0:\n",
    "            temp_data = df[self.categorical_cols_].astype(str)\n",
    "            categorical_data = self.vec_.transform(temp_data.to_dict('records'))\n",
    "            categorical_df = pd.DataFrame(categorical_data, columns=self.vec_.feature_names_, index=df.index)\n",
    "\n",
    "            new_data = pd.concat([df[self.numeric_cols_], categorical_df],axis=1)\n",
    "        else:\n",
    "            new_data = df.copy()\n",
    "        return new_data"
   ]
  },
  {
   "cell_type": "markdown",
   "metadata": {},
   "source": [
    "### Prep model"
   ]
  },
  {
   "cell_type": "code",
   "execution_count": 81,
   "metadata": {},
   "outputs": [],
   "source": [
    "# Train and test sets\n",
    "X_train, X_test, y_train, y_test = train_test_split(df, y, test_size=.2, random_state=0)\n",
    "\n",
    "# Algorithm type\n",
    "if model_config['algorithm'] == 'lgbm':\n",
    "    base_clf = lightgbm.LGBMClassifier(is_unbalance=True, nthread=4)\n",
    "if model_config['algorithm'] == 'logit':\n",
    "    base_clf = LogisticRegression(solver='liblinear')\n",
    "if model_config['algorithm'] == 'rf':\n",
    "    base_clf = RandomForestClassifier(n_jobs=-1)\n",
    "\n",
    "# Pipeline\n",
    "if model_config['algorithm'] == 'rf':\n",
    "    pipeline = Pipeline([\n",
    "            ('feature_encoder',DataFrame_Encoder()),\n",
    "            ('imputer',Imputer()),\n",
    "            ('clf',base_clf)\n",
    "    ])\n",
    "else:\n",
    "    pipeline = Pipeline([\n",
    "        ('feature_encoder',DataFrame_Encoder()),\n",
    "        ('imputer',Imputer()),\n",
    "        ('scaler',StandardScaler()),\n",
    "        ('clf',base_clf)\n",
    "    ])\n",
    "\n",
    "\n",
    "# Pipeline parameters\n",
    "string_features = X_train.select_dtypes(include=[object]).columns.values\n",
    "numeric_features = X_train.select_dtypes(exclude=[object]).columns.values\n",
    "pipeline.set_params(feature_encoder__categorical_cols_=string_features,\n",
    "                    feature_encoder__numeric_cols_=numeric_features)\n",
    "\n",
    "pipeline_params = {}\n",
    "for key in model_config['param_grid']:\n",
    "    pipeline_params['clf__'+key] = model_config['param_grid'][key]"
   ]
  },
  {
   "cell_type": "markdown",
   "metadata": {},
   "source": [
    "### Train model"
   ]
  },
  {
   "cell_type": "code",
   "execution_count": 82,
   "metadata": {},
   "outputs": [
    {
     "data": {
      "text/plain": [
       "Pipeline(steps=[('feature_encoder', DataFrame_Encoder(categorical_cols_=array(['education', 'race', 'sex', 'house_type', 'marital_status',\n",
       "       'usa_region', 'house_payment', 'work', 'has_gay_friendsfam',\n",
       "       'politics', 'religion', 'partner_race', 'partner_religion',\n",
       "       'partner_education', 'N_marr...ty='l2', random_state=None, solver='liblinear', tol=0.0001,\n",
       "          verbose=0, warm_start=False))])"
      ]
     },
     "execution_count": 82,
     "metadata": {},
     "output_type": "execute_result"
    }
   ],
   "source": [
    "pipeline"
   ]
  },
  {
   "cell_type": "code",
   "execution_count": 83,
   "metadata": {},
   "outputs": [
    {
     "data": {
      "text/plain": [
       "{'clf__C': array([  1.00000000e-06,   1.00000000e-05,   1.00000000e-04,\n",
       "          1.00000000e-03,   1.00000000e-02,   1.00000000e-01,\n",
       "          1.00000000e+00,   1.00000000e+01,   1.00000000e+02,\n",
       "          1.00000000e+03]), 'clf__penalty': ['l1', 'l2']}"
      ]
     },
     "execution_count": 83,
     "metadata": {},
     "output_type": "execute_result"
    }
   ],
   "source": [
    "pipeline_params"
   ]
  },
  {
   "cell_type": "code",
   "execution_count": 84,
   "metadata": {},
   "outputs": [
    {
     "name": "stdout",
     "output_type": "stream",
     "text": [
      "Fitting 5 folds for each of 20 candidates, totalling 100 fits\n",
      "[CV] clf__C=1e-06, clf__penalty=l1 ...................................\n",
      "[CV] clf__C=1e-06, clf__penalty=l1 ...................................\n",
      "[CV] clf__C=1e-06, clf__penalty=l1 ...................................\n",
      "[CV] clf__C=1e-06, clf__penalty=l1 ...................................\n",
      "[CV] clf__C=1e-06, clf__penalty=l1 ...................................\n",
      "[CV] clf__C=1e-06, clf__penalty=l2 ...................................\n",
      "[CV] clf__C=1e-06, clf__penalty=l2 ...................................\n",
      "[CV] clf__C=1e-06, clf__penalty=l2 ...................................\n"
     ]
    },
    {
     "name": "stderr",
     "output_type": "stream",
     "text": [
      "Process ForkPoolWorker-31:\n",
      "Process ForkPoolWorker-30:\n",
      "Process ForkPoolWorker-29:\n",
      "Process ForkPoolWorker-32:\n",
      "Traceback (most recent call last):\n",
      "Traceback (most recent call last):\n",
      "Traceback (most recent call last):\n",
      "  File \"/Users/scott/anaconda/lib/python3.6/multiprocessing/process.py\", line 249, in _bootstrap\n",
      "    self.run()\n",
      "Traceback (most recent call last):\n",
      "  File \"/Users/scott/anaconda/lib/python3.6/multiprocessing/process.py\", line 249, in _bootstrap\n",
      "    self.run()\n",
      "  File \"/Users/scott/anaconda/lib/python3.6/multiprocessing/process.py\", line 249, in _bootstrap\n",
      "    self.run()\n",
      "  File \"/Users/scott/anaconda/lib/python3.6/multiprocessing/process.py\", line 93, in run\n",
      "    self._target(*self._args, **self._kwargs)\n",
      "  File \"/Users/scott/anaconda/lib/python3.6/multiprocessing/process.py\", line 249, in _bootstrap\n",
      "    self.run()\n",
      "  File \"/Users/scott/anaconda/lib/python3.6/multiprocessing/process.py\", line 93, in run\n",
      "    self._target(*self._args, **self._kwargs)\n",
      "  File \"/Users/scott/anaconda/lib/python3.6/multiprocessing/process.py\", line 93, in run\n",
      "    self._target(*self._args, **self._kwargs)\n",
      "  File \"/Users/scott/anaconda/lib/python3.6/multiprocessing/pool.py\", line 108, in worker\n",
      "    task = get()\n",
      "  File \"/Users/scott/anaconda/lib/python3.6/multiprocessing/process.py\", line 93, in run\n",
      "    self._target(*self._args, **self._kwargs)\n",
      "  File \"/Users/scott/anaconda/lib/python3.6/multiprocessing/pool.py\", line 108, in worker\n",
      "    task = get()\n",
      "  File \"/Users/scott/anaconda/lib/python3.6/multiprocessing/pool.py\", line 108, in worker\n",
      "    task = get()\n",
      "  File \"/Users/scott/anaconda/lib/python3.6/site-packages/sklearn/externals/joblib/pool.py\", line 360, in get\n",
      "    racquire()\n",
      "  File \"/Users/scott/anaconda/lib/python3.6/multiprocessing/pool.py\", line 108, in worker\n",
      "    task = get()\n",
      "  File \"/Users/scott/anaconda/lib/python3.6/site-packages/sklearn/externals/joblib/pool.py\", line 360, in get\n",
      "    racquire()\n",
      "  File \"/Users/scott/anaconda/lib/python3.6/site-packages/sklearn/externals/joblib/pool.py\", line 360, in get\n",
      "    racquire()\n",
      "  File \"/Users/scott/anaconda/lib/python3.6/site-packages/sklearn/externals/joblib/pool.py\", line 362, in get\n",
      "    return recv()\n",
      "KeyboardInterrupt\n",
      "KeyboardInterrupt\n",
      "KeyboardInterrupt\n",
      "  File \"/Users/scott/anaconda/lib/python3.6/multiprocessing/connection.py\", line 250, in recv\n",
      "    buf = self._recv_bytes()\n",
      "  File \"/Users/scott/anaconda/lib/python3.6/multiprocessing/connection.py\", line 407, in _recv_bytes\n",
      "    buf = self._recv(4)\n",
      "  File \"/Users/scott/anaconda/lib/python3.6/multiprocessing/connection.py\", line 379, in _recv\n",
      "    chunk = read(handle, remaining)\n",
      "KeyboardInterrupt\n"
     ]
    },
    {
     "ename": "KeyboardInterrupt",
     "evalue": "",
     "output_type": "error",
     "traceback": [
      "\u001b[0;31m---------------------------------------------------------------------------\u001b[0m",
      "\u001b[0;31mKeyboardInterrupt\u001b[0m                         Traceback (most recent call last)",
      "\u001b[0;32m<ipython-input-84-7d32a738cde7>\u001b[0m in \u001b[0;36m<module>\u001b[0;34m()\u001b[0m\n\u001b[1;32m      1\u001b[0m clf = GridSearchCV(pipeline, pipeline_params, cv=model_config['n_folds'],\n\u001b[1;32m      2\u001b[0m                    n_jobs=4, verbose=4, scoring='roc_auc')\n\u001b[0;32m----> 3\u001b[0;31m \u001b[0mclf\u001b[0m\u001b[0;34m.\u001b[0m\u001b[0mfit\u001b[0m\u001b[0;34m(\u001b[0m\u001b[0mX_train\u001b[0m\u001b[0;34m,\u001b[0m \u001b[0my_train\u001b[0m\u001b[0;34m)\u001b[0m\u001b[0;34m\u001b[0m\u001b[0m\n\u001b[0m",
      "\u001b[0;32m~/anaconda/lib/python3.6/site-packages/sklearn/model_selection/_search.py\u001b[0m in \u001b[0;36mfit\u001b[0;34m(self, X, y, groups)\u001b[0m\n\u001b[1;32m    943\u001b[0m             \u001b[0mtrain\u001b[0m\u001b[0;34m/\u001b[0m\u001b[0mtest\u001b[0m \u001b[0mset\u001b[0m\u001b[0;34m.\u001b[0m\u001b[0;34m\u001b[0m\u001b[0m\n\u001b[1;32m    944\u001b[0m         \"\"\"\n\u001b[0;32m--> 945\u001b[0;31m         \u001b[0;32mreturn\u001b[0m \u001b[0mself\u001b[0m\u001b[0;34m.\u001b[0m\u001b[0m_fit\u001b[0m\u001b[0;34m(\u001b[0m\u001b[0mX\u001b[0m\u001b[0;34m,\u001b[0m \u001b[0my\u001b[0m\u001b[0;34m,\u001b[0m \u001b[0mgroups\u001b[0m\u001b[0;34m,\u001b[0m \u001b[0mParameterGrid\u001b[0m\u001b[0;34m(\u001b[0m\u001b[0mself\u001b[0m\u001b[0;34m.\u001b[0m\u001b[0mparam_grid\u001b[0m\u001b[0;34m)\u001b[0m\u001b[0;34m)\u001b[0m\u001b[0;34m\u001b[0m\u001b[0m\n\u001b[0m\u001b[1;32m    946\u001b[0m \u001b[0;34m\u001b[0m\u001b[0m\n\u001b[1;32m    947\u001b[0m \u001b[0;34m\u001b[0m\u001b[0m\n",
      "\u001b[0;32m~/anaconda/lib/python3.6/site-packages/sklearn/model_selection/_search.py\u001b[0m in \u001b[0;36m_fit\u001b[0;34m(self, X, y, groups, parameter_iterable)\u001b[0m\n\u001b[1;32m    562\u001b[0m                                   \u001b[0mreturn_times\u001b[0m\u001b[0;34m=\u001b[0m\u001b[0;32mTrue\u001b[0m\u001b[0;34m,\u001b[0m \u001b[0mreturn_parameters\u001b[0m\u001b[0;34m=\u001b[0m\u001b[0;32mTrue\u001b[0m\u001b[0;34m,\u001b[0m\u001b[0;34m\u001b[0m\u001b[0m\n\u001b[1;32m    563\u001b[0m                                   error_score=self.error_score)\n\u001b[0;32m--> 564\u001b[0;31m           \u001b[0;32mfor\u001b[0m \u001b[0mparameters\u001b[0m \u001b[0;32min\u001b[0m \u001b[0mparameter_iterable\u001b[0m\u001b[0;34m\u001b[0m\u001b[0m\n\u001b[0m\u001b[1;32m    565\u001b[0m           for train, test in cv_iter)\n\u001b[1;32m    566\u001b[0m \u001b[0;34m\u001b[0m\u001b[0m\n",
      "\u001b[0;32m~/anaconda/lib/python3.6/site-packages/sklearn/externals/joblib/parallel.py\u001b[0m in \u001b[0;36m__call__\u001b[0;34m(self, iterable)\u001b[0m\n\u001b[1;32m    766\u001b[0m                 \u001b[0;31m# consumption.\u001b[0m\u001b[0;34m\u001b[0m\u001b[0;34m\u001b[0m\u001b[0m\n\u001b[1;32m    767\u001b[0m                 \u001b[0mself\u001b[0m\u001b[0;34m.\u001b[0m\u001b[0m_iterating\u001b[0m \u001b[0;34m=\u001b[0m \u001b[0;32mFalse\u001b[0m\u001b[0;34m\u001b[0m\u001b[0m\n\u001b[0;32m--> 768\u001b[0;31m             \u001b[0mself\u001b[0m\u001b[0;34m.\u001b[0m\u001b[0mretrieve\u001b[0m\u001b[0;34m(\u001b[0m\u001b[0;34m)\u001b[0m\u001b[0;34m\u001b[0m\u001b[0m\n\u001b[0m\u001b[1;32m    769\u001b[0m             \u001b[0;31m# Make sure that we get a last message telling us we are done\u001b[0m\u001b[0;34m\u001b[0m\u001b[0;34m\u001b[0m\u001b[0m\n\u001b[1;32m    770\u001b[0m             \u001b[0melapsed_time\u001b[0m \u001b[0;34m=\u001b[0m \u001b[0mtime\u001b[0m\u001b[0;34m.\u001b[0m\u001b[0mtime\u001b[0m\u001b[0;34m(\u001b[0m\u001b[0;34m)\u001b[0m \u001b[0;34m-\u001b[0m \u001b[0mself\u001b[0m\u001b[0;34m.\u001b[0m\u001b[0m_start_time\u001b[0m\u001b[0;34m\u001b[0m\u001b[0m\n",
      "\u001b[0;32m~/anaconda/lib/python3.6/site-packages/sklearn/externals/joblib/parallel.py\u001b[0m in \u001b[0;36mretrieve\u001b[0;34m(self)\u001b[0m\n\u001b[1;32m    717\u001b[0m                     \u001b[0mensure_ready\u001b[0m \u001b[0;34m=\u001b[0m \u001b[0mself\u001b[0m\u001b[0;34m.\u001b[0m\u001b[0m_managed_backend\u001b[0m\u001b[0;34m\u001b[0m\u001b[0m\n\u001b[1;32m    718\u001b[0m                     \u001b[0mbackend\u001b[0m\u001b[0;34m.\u001b[0m\u001b[0mabort_everything\u001b[0m\u001b[0;34m(\u001b[0m\u001b[0mensure_ready\u001b[0m\u001b[0;34m=\u001b[0m\u001b[0mensure_ready\u001b[0m\u001b[0;34m)\u001b[0m\u001b[0;34m\u001b[0m\u001b[0m\n\u001b[0;32m--> 719\u001b[0;31m                 \u001b[0;32mraise\u001b[0m \u001b[0mexception\u001b[0m\u001b[0;34m\u001b[0m\u001b[0m\n\u001b[0m\u001b[1;32m    720\u001b[0m \u001b[0;34m\u001b[0m\u001b[0m\n\u001b[1;32m    721\u001b[0m     \u001b[0;32mdef\u001b[0m \u001b[0m__call__\u001b[0m\u001b[0;34m(\u001b[0m\u001b[0mself\u001b[0m\u001b[0;34m,\u001b[0m \u001b[0miterable\u001b[0m\u001b[0;34m)\u001b[0m\u001b[0;34m:\u001b[0m\u001b[0;34m\u001b[0m\u001b[0m\n",
      "\u001b[0;32m~/anaconda/lib/python3.6/site-packages/sklearn/externals/joblib/parallel.py\u001b[0m in \u001b[0;36mretrieve\u001b[0;34m(self)\u001b[0m\n\u001b[1;32m    680\u001b[0m                 \u001b[0;31m# check if timeout supported in backend future implementation\u001b[0m\u001b[0;34m\u001b[0m\u001b[0;34m\u001b[0m\u001b[0m\n\u001b[1;32m    681\u001b[0m                 \u001b[0;32mif\u001b[0m \u001b[0;34m'timeout'\u001b[0m \u001b[0;32min\u001b[0m \u001b[0mgetfullargspec\u001b[0m\u001b[0;34m(\u001b[0m\u001b[0mjob\u001b[0m\u001b[0;34m.\u001b[0m\u001b[0mget\u001b[0m\u001b[0;34m)\u001b[0m\u001b[0;34m.\u001b[0m\u001b[0margs\u001b[0m\u001b[0;34m:\u001b[0m\u001b[0;34m\u001b[0m\u001b[0m\n\u001b[0;32m--> 682\u001b[0;31m                     \u001b[0mself\u001b[0m\u001b[0;34m.\u001b[0m\u001b[0m_output\u001b[0m\u001b[0;34m.\u001b[0m\u001b[0mextend\u001b[0m\u001b[0;34m(\u001b[0m\u001b[0mjob\u001b[0m\u001b[0;34m.\u001b[0m\u001b[0mget\u001b[0m\u001b[0;34m(\u001b[0m\u001b[0mtimeout\u001b[0m\u001b[0;34m=\u001b[0m\u001b[0mself\u001b[0m\u001b[0;34m.\u001b[0m\u001b[0mtimeout\u001b[0m\u001b[0;34m)\u001b[0m\u001b[0;34m)\u001b[0m\u001b[0;34m\u001b[0m\u001b[0m\n\u001b[0m\u001b[1;32m    683\u001b[0m                 \u001b[0;32melse\u001b[0m\u001b[0;34m:\u001b[0m\u001b[0;34m\u001b[0m\u001b[0m\n\u001b[1;32m    684\u001b[0m                     \u001b[0mself\u001b[0m\u001b[0;34m.\u001b[0m\u001b[0m_output\u001b[0m\u001b[0;34m.\u001b[0m\u001b[0mextend\u001b[0m\u001b[0;34m(\u001b[0m\u001b[0mjob\u001b[0m\u001b[0;34m.\u001b[0m\u001b[0mget\u001b[0m\u001b[0;34m(\u001b[0m\u001b[0;34m)\u001b[0m\u001b[0;34m)\u001b[0m\u001b[0;34m\u001b[0m\u001b[0m\n",
      "\u001b[0;32m~/anaconda/lib/python3.6/multiprocessing/pool.py\u001b[0m in \u001b[0;36mget\u001b[0;34m(self, timeout)\u001b[0m\n\u001b[1;32m    600\u001b[0m \u001b[0;34m\u001b[0m\u001b[0m\n\u001b[1;32m    601\u001b[0m     \u001b[0;32mdef\u001b[0m \u001b[0mget\u001b[0m\u001b[0;34m(\u001b[0m\u001b[0mself\u001b[0m\u001b[0;34m,\u001b[0m \u001b[0mtimeout\u001b[0m\u001b[0;34m=\u001b[0m\u001b[0;32mNone\u001b[0m\u001b[0;34m)\u001b[0m\u001b[0;34m:\u001b[0m\u001b[0;34m\u001b[0m\u001b[0m\n\u001b[0;32m--> 602\u001b[0;31m         \u001b[0mself\u001b[0m\u001b[0;34m.\u001b[0m\u001b[0mwait\u001b[0m\u001b[0;34m(\u001b[0m\u001b[0mtimeout\u001b[0m\u001b[0;34m)\u001b[0m\u001b[0;34m\u001b[0m\u001b[0m\n\u001b[0m\u001b[1;32m    603\u001b[0m         \u001b[0;32mif\u001b[0m \u001b[0;32mnot\u001b[0m \u001b[0mself\u001b[0m\u001b[0;34m.\u001b[0m\u001b[0mready\u001b[0m\u001b[0;34m(\u001b[0m\u001b[0;34m)\u001b[0m\u001b[0;34m:\u001b[0m\u001b[0;34m\u001b[0m\u001b[0m\n\u001b[1;32m    604\u001b[0m             \u001b[0;32mraise\u001b[0m \u001b[0mTimeoutError\u001b[0m\u001b[0;34m\u001b[0m\u001b[0m\n",
      "\u001b[0;32m~/anaconda/lib/python3.6/multiprocessing/pool.py\u001b[0m in \u001b[0;36mwait\u001b[0;34m(self, timeout)\u001b[0m\n\u001b[1;32m    597\u001b[0m \u001b[0;34m\u001b[0m\u001b[0m\n\u001b[1;32m    598\u001b[0m     \u001b[0;32mdef\u001b[0m \u001b[0mwait\u001b[0m\u001b[0;34m(\u001b[0m\u001b[0mself\u001b[0m\u001b[0;34m,\u001b[0m \u001b[0mtimeout\u001b[0m\u001b[0;34m=\u001b[0m\u001b[0;32mNone\u001b[0m\u001b[0;34m)\u001b[0m\u001b[0;34m:\u001b[0m\u001b[0;34m\u001b[0m\u001b[0m\n\u001b[0;32m--> 599\u001b[0;31m         \u001b[0mself\u001b[0m\u001b[0;34m.\u001b[0m\u001b[0m_event\u001b[0m\u001b[0;34m.\u001b[0m\u001b[0mwait\u001b[0m\u001b[0;34m(\u001b[0m\u001b[0mtimeout\u001b[0m\u001b[0;34m)\u001b[0m\u001b[0;34m\u001b[0m\u001b[0m\n\u001b[0m\u001b[1;32m    600\u001b[0m \u001b[0;34m\u001b[0m\u001b[0m\n\u001b[1;32m    601\u001b[0m     \u001b[0;32mdef\u001b[0m \u001b[0mget\u001b[0m\u001b[0;34m(\u001b[0m\u001b[0mself\u001b[0m\u001b[0;34m,\u001b[0m \u001b[0mtimeout\u001b[0m\u001b[0;34m=\u001b[0m\u001b[0;32mNone\u001b[0m\u001b[0;34m)\u001b[0m\u001b[0;34m:\u001b[0m\u001b[0;34m\u001b[0m\u001b[0m\n",
      "\u001b[0;32m~/anaconda/lib/python3.6/threading.py\u001b[0m in \u001b[0;36mwait\u001b[0;34m(self, timeout)\u001b[0m\n\u001b[1;32m    549\u001b[0m             \u001b[0msignaled\u001b[0m \u001b[0;34m=\u001b[0m \u001b[0mself\u001b[0m\u001b[0;34m.\u001b[0m\u001b[0m_flag\u001b[0m\u001b[0;34m\u001b[0m\u001b[0m\n\u001b[1;32m    550\u001b[0m             \u001b[0;32mif\u001b[0m \u001b[0;32mnot\u001b[0m \u001b[0msignaled\u001b[0m\u001b[0;34m:\u001b[0m\u001b[0;34m\u001b[0m\u001b[0m\n\u001b[0;32m--> 551\u001b[0;31m                 \u001b[0msignaled\u001b[0m \u001b[0;34m=\u001b[0m \u001b[0mself\u001b[0m\u001b[0;34m.\u001b[0m\u001b[0m_cond\u001b[0m\u001b[0;34m.\u001b[0m\u001b[0mwait\u001b[0m\u001b[0;34m(\u001b[0m\u001b[0mtimeout\u001b[0m\u001b[0;34m)\u001b[0m\u001b[0;34m\u001b[0m\u001b[0m\n\u001b[0m\u001b[1;32m    552\u001b[0m             \u001b[0;32mreturn\u001b[0m \u001b[0msignaled\u001b[0m\u001b[0;34m\u001b[0m\u001b[0m\n\u001b[1;32m    553\u001b[0m \u001b[0;34m\u001b[0m\u001b[0m\n",
      "\u001b[0;32m~/anaconda/lib/python3.6/threading.py\u001b[0m in \u001b[0;36mwait\u001b[0;34m(self, timeout)\u001b[0m\n\u001b[1;32m    293\u001b[0m         \u001b[0;32mtry\u001b[0m\u001b[0;34m:\u001b[0m    \u001b[0;31m# restore state no matter what (e.g., KeyboardInterrupt)\u001b[0m\u001b[0;34m\u001b[0m\u001b[0m\n\u001b[1;32m    294\u001b[0m             \u001b[0;32mif\u001b[0m \u001b[0mtimeout\u001b[0m \u001b[0;32mis\u001b[0m \u001b[0;32mNone\u001b[0m\u001b[0;34m:\u001b[0m\u001b[0;34m\u001b[0m\u001b[0m\n\u001b[0;32m--> 295\u001b[0;31m                 \u001b[0mwaiter\u001b[0m\u001b[0;34m.\u001b[0m\u001b[0macquire\u001b[0m\u001b[0;34m(\u001b[0m\u001b[0;34m)\u001b[0m\u001b[0;34m\u001b[0m\u001b[0m\n\u001b[0m\u001b[1;32m    296\u001b[0m                 \u001b[0mgotit\u001b[0m \u001b[0;34m=\u001b[0m \u001b[0;32mTrue\u001b[0m\u001b[0;34m\u001b[0m\u001b[0m\n\u001b[1;32m    297\u001b[0m             \u001b[0;32melse\u001b[0m\u001b[0;34m:\u001b[0m\u001b[0;34m\u001b[0m\u001b[0m\n",
      "\u001b[0;31mKeyboardInterrupt\u001b[0m: "
     ]
    }
   ],
   "source": [
    "clf = GridSearchCV(pipeline, pipeline_params, cv=model_config['n_folds'],\n",
    "                   n_jobs=4, verbose=4, scoring='roc_auc')\n",
    "clf.fit(X_train, y_train)"
   ]
  },
  {
   "cell_type": "markdown",
   "metadata": {},
   "source": [
    "# Evaluate model performance on test set\n",
    "* Logit \n",
    "    * Not great: violin plots of proba mostly overlap\n",
    "    * AUC = 0.615\n",
    "    * precision = ??\n",
    "* RF\n",
    "    * AUC = 0.636\n",
    "    * precision = "
   ]
  },
  {
   "cell_type": "markdown",
   "metadata": {},
   "source": [
    "### Compute AUC and precision"
   ]
  },
  {
   "cell_type": "code",
   "execution_count": 75,
   "metadata": {},
   "outputs": [
    {
     "name": "stdout",
     "output_type": "stream",
     "text": [
      "AUC= 0.635638782577\n"
     ]
    }
   ],
   "source": [
    "y_train_pred = [x[1] for x in clf.predict_proba(X_train)]\n",
    "y_test_pred = [x[1] for x in clf.predict_proba(X_test)]\n",
    "print('AUC=', roc_auc_score(y_test, y_test_pred))"
   ]
  },
  {
   "cell_type": "code",
   "execution_count": null,
   "metadata": {},
   "outputs": [],
   "source": [
    "frac_flag = .1\n"
   ]
  },
  {
   "cell_type": "code",
   "execution_count": 68,
   "metadata": {},
   "outputs": [
    {
     "name": "stderr",
     "output_type": "stream",
     "text": [
      "/Users/scott/anaconda/lib/python3.6/site-packages/seaborn/categorical.py:588: FutureWarning: remove_na is deprecated and is a private function. Do not use.\n",
      "  kde_data = remove_na(group_data)\n",
      "/Users/scott/anaconda/lib/python3.6/site-packages/seaborn/categorical.py:816: FutureWarning: remove_na is deprecated and is a private function. Do not use.\n",
      "  violin_data = remove_na(group_data)\n"
     ]
    },
    {
     "data": {
      "text/plain": [
       "<matplotlib.axes._subplots.AxesSubplot at 0x11fc84898>"
      ]
     },
     "execution_count": 68,
     "metadata": {},
     "output_type": "execute_result"
    },
    {
     "data": {
      "image/png": "[encoded data removed]",
      "text/plain": [
       "<matplotlib.figure.Figure at 0x11f7a1f28>"
      ]
     },
     "metadata": {},
     "output_type": "display_data"
    }
   ],
   "source": [
    "df_y = pd.DataFrame({'label': y_test, 'pred': y_test_pred})\n",
    "sns.violinplot(y='pred', x='label', data=df_y)"
   ]
  },
  {
   "cell_type": "code",
   "execution_count": null,
   "metadata": {},
   "outputs": [],
   "source": []
  }
 ],
 "metadata": {
  "kernelspec": {
   "display_name": "Python 3",
   "language": "python",
   "name": "python3"
  },
  "language_info": {
   "codemirror_mode": {
    "name": "ipython",
    "version": 3
   },
   "file_extension": ".py",
   "mimetype": "text/x-python",
   "name": "python",
   "nbconvert_exporter": "python",
   "pygments_lexer": "ipython3",
   "version": "3.6.0"
  }
 },
 "nbformat": 4,
 "nbformat_minor": 2
}
